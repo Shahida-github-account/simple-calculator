{
  "nbformat": 4,
  "nbformat_minor": 0,
  "metadata": {
    "colab": {
      "provenance": [],
      "authorship_tag": "ABX9TyNjgrkW+TwUn6NtqJFroCut",
      "include_colab_link": true
    },
    "kernelspec": {
      "name": "python3",
      "display_name": "Python 3"
    },
    "language_info": {
      "name": "python"
    }
  },
  "cells": [
    {
      "cell_type": "markdown",
      "metadata": {
        "id": "view-in-github",
        "colab_type": "text"
      },
      "source": [
        "<a href=\"https://colab.research.google.com/github/Shahida-github-account/simple-calculator/blob/main/App_py.ipynb\" target=\"_parent\"><img src=\"https://colab.research.google.com/assets/colab-badge.svg\" alt=\"Open In Colab\"/></a>"
      ]
    },
    {
      "cell_type": "code",
      "execution_count": 2,
      "metadata": {
        "colab": {
          "base_uri": "https://localhost:8080/",
          "height": 383
        },
        "id": "lGq6V8DBSXQK",
        "outputId": "4dd14c51-7cb5-4224-e061-d917b9d66fb0"
      },
      "outputs": [
        {
          "output_type": "error",
          "ename": "ModuleNotFoundError",
          "evalue": "No module named 'streamlit'",
          "traceback": [
            "\u001b[0;31m---------------------------------------------------------------------------\u001b[0m",
            "\u001b[0;31mModuleNotFoundError\u001b[0m                       Traceback (most recent call last)",
            "\u001b[0;32m<ipython-input-2-403df56add03>\u001b[0m in \u001b[0;36m<cell line: 1>\u001b[0;34m()\u001b[0m\n\u001b[0;32m----> 1\u001b[0;31m \u001b[0;32mimport\u001b[0m \u001b[0mstreamlit\u001b[0m \u001b[0;32mas\u001b[0m \u001b[0mst\u001b[0m\u001b[0;34m\u001b[0m\u001b[0;34m\u001b[0m\u001b[0m\n\u001b[0m\u001b[1;32m      2\u001b[0m \u001b[0;34m\u001b[0m\u001b[0m\n\u001b[1;32m      3\u001b[0m \u001b[0;31m# Simple Calculator using Streamlit\u001b[0m\u001b[0;34m\u001b[0m\u001b[0;34m\u001b[0m\u001b[0m\n\u001b[1;32m      4\u001b[0m \u001b[0;34m\u001b[0m\u001b[0m\n\u001b[1;32m      5\u001b[0m \u001b[0;31m# Set up title and description\u001b[0m\u001b[0;34m\u001b[0m\u001b[0;34m\u001b[0m\u001b[0m\n",
            "\u001b[0;31mModuleNotFoundError\u001b[0m: No module named 'streamlit'",
            "",
            "\u001b[0;31m---------------------------------------------------------------------------\u001b[0;32m\nNOTE: If your import is failing due to a missing package, you can\nmanually install dependencies using either !pip or !apt.\n\nTo view examples of installing some common dependencies, click the\n\"Open Examples\" button below.\n\u001b[0;31m---------------------------------------------------------------------------\u001b[0m\n"
          ],
          "errorDetails": {
            "actions": [
              {
                "action": "open_url",
                "actionText": "Open Examples",
                "url": "/notebooks/snippets/importing_libraries.ipynb"
              }
            ]
          }
        }
      ],
      "source": [
        "import streamlit as st\n",
        "\n",
        "# Simple Calculator using Streamlit\n",
        "\n",
        "# Set up title and description\n",
        "st.title(\"Simple Calculator\")\n",
        "st.write(\"Select an operation and enter two numbers to calculate.\")\n",
        "\n",
        "# Select operation\n",
        "operation = st.selectbox(\"Choose an operation:\", ['Addition', 'Subtraction', 'Multiplication', 'Division'])\n",
        "\n",
        "# Input numbers\n",
        "num1 = st.number_input(\"Enter the first number:\", format=\"%.2f\")\n",
        "num2 = st.number_input(\"Enter the second number:\", format=\"%.2f\")\n",
        "\n",
        "# Perform calculation based on user input\n",
        "if st.button(\"Calculate\"):\n",
        "    if operation == 'Addition':\n",
        "        result = num1 + num2\n",
        "        st.write(f\"Result: {num1} + {num2} = {result}\")\n",
        "    elif operation == 'Subtraction':\n",
        "        result = num1 - num2\n",
        "        st.write(f\"Result: {num1} - {num2} = {result}\")\n",
        "    elif operation == 'Multiplication':\n",
        "        result = num1 * num2\n",
        "        st.write(f\"Result: {num1} * {num2} = {result}\")\n",
        "    elif operation == 'Division':\n",
        "        if num2 != 0:\n",
        "            result = num1 / num2\n",
        "            st.write(f\"Result: {num1} / {num2} = {result}\")\n",
        "        else:\n",
        "            st.write(\"Error! Division by zero.\")\n",
        "\n",
        "# Footer\n",
        "st.write(\"Thank you for using the Simple Calculator!\")\n",
        "# Simple Calculator in Python\n",
        "\n",
        "# Function to perform basic calculations\n",
        "def calculator():\n",
        "    print(\"Welcome to the simple calculator!\")\n",
        "    print(\"Select operation:\")\n",
        "    print(\"1. Addition (+)\")\n",
        "    print(\"2. Subtraction (-)\")\n",
        "    print(\"3. Multiplication (*)\")\n",
        "    print(\"4. Division (/)\")\n",
        "\n",
        "    # Take input from the user\n",
        "    choice = input(\"Enter choice (1/2/3/4): \")\n",
        "\n",
        "    if choice in ['1', '2', '3', '4']:\n",
        "        num1 = float(input(\"Enter first number: \"))\n",
        "        num2 = float(input(\"Enter second number: \"))\n",
        "\n",
        "        if choice == '1':\n",
        "            print(f\"{num1} + {num2} = {num1 + num2}\")\n",
        "        elif choice == '2':\n",
        "            print(f\"{num1} - {num2} = {num1 - num2}\")\n",
        "        elif choice == '3':\n",
        "            print(f\"{num1} * {num2} = {num1 * num2}\")\n",
        "        elif choice == '4':\n",
        "            if num2 != 0:\n",
        "                print(f\"{num1} / {num2} = {num1 / num2}\")\n",
        "            else:\n",
        "                print(\"Error! Division by zero.\")\n",
        "    else:\n",
        "        print(\"Invalid input\")\n",
        "\n",
        "# Call the calculator function\n",
        "calculator()\n"
      ]
    }
  ]
}